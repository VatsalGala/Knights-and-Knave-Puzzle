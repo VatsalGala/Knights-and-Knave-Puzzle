{
 "cells": [
  {
   "cell_type": "raw",
   "metadata": {},
   "source": [
    "Chromosome for Knight and Knave Puzzle::  \n",
    "starting with 2 variables: (A, B)\n",
    "possible combinations can be : {A, B, A.B}\n",
    "\n",
    "So to randomly generate of these combinations and scale this thinking we introduce a superset \n",
    "superset = {{variables} + {1}}\n",
    "\n",
    "so the combination {A} can be represented as a selection of 2 choices [1, A]\n",
    "\n",
    "The selection of choices is to be random."
   ]
  },
  {
   "cell_type": "raw",
   "metadata": {},
   "source": [
    "To Do :\n",
    "Fitness Function:\n",
    "    - Generate Truth Table\n",
    "    - Evaluate against each equation in population\n",
    "    - For each Equation:\n",
    "        - Select Truth Table Rows that give true value for evaluation\n",
    "        - Calculate similarity score to assumed truth values\n",
    "        - Check for count of truth table rows\n",
    "\n",
    "Functions to write:\n",
    "- Similarity score against truth table values\n"
   ]
  },
  {
   "cell_type": "markdown",
   "metadata": {},
   "source": [
    "### Code"
   ]
  },
  {
   "cell_type": "code",
   "execution_count": 691,
   "metadata": {
    "ExecuteTime": {
     "end_time": "2019-04-11T22:34:52.767046Z",
     "start_time": "2019-04-11T22:34:52.702428Z"
    }
   },
   "outputs": [],
   "source": [
    "import random\n",
    "import itertools\n",
    "\n",
    "VARIAcaBLES = ['A', 'B', '1'] # Variable name always first followed by count(variables) - 1 times \"1\"\n",
    "OPERAND = ['&', \"|\"]\n",
    "negation = ['-', '']\n",
    "BLOCK_SIZE = 2\n",
    "PEOPLE_COUNT = 2\n",
    "POPULATION_SIZE = 50\n",
    "ASSUMED_ANSWER = [True, False, True] #To be set on each run\n"
   ]
  },
  {
   "cell_type": "code",
   "execution_count": 693,
   "metadata": {
    "ExecuteTime": {
     "end_time": "2019-04-11T22:34:55.069830Z",
     "start_time": "2019-04-11T22:34:54.983911Z"
    },
    "code_folding": [
     0
    ],
    "collapsed": true
   },
   "outputs": [],
   "source": [
    "# Functions\n",
    "def make_random_block(block_size):\n",
    "    \"\"\"Make boolean equation with block_size number of variables with random operators in between\"\"\"\n",
    "    \n",
    "    global VARIABLES, OPERAND\n",
    "    \n",
    "    def random_negate(nn_block):\n",
    "        block = []\n",
    "        for ch in nn_block:\n",
    "            if ch is not '1':\n",
    "                block.append(random.choice(negation)+ch)\n",
    "            else:\n",
    "                block.append(ch)\n",
    "        return block\n",
    "\n",
    "    # create non-negated blocks\n",
    "    nn_var = random.sample(VARIABLES, block_size)\n",
    "\n",
    "    # randomly add negation\n",
    "    var = random_negate(nn_var)\n",
    "    operants = random.choices(OPERAND, k=block_size-1)\n",
    "\n",
    "    # Aleternate variables and equations into a single equation\n",
    "    equation = [None]*(len(var) + len(operants))\n",
    "    equation[::2], equation[1::2] = var, operants\n",
    "    \n",
    "    return equation\n",
    "\n",
    "def truth_table(n):\n",
    "    \"\"\"Get Truth Table for `n` columns\"\"\"\n",
    "    return itertools.product([True, False], repeat=n)\n",
    "\n",
    "def similarity_score(row1, row2):\n",
    "    score = 0\n",
    "    for a, b in zip(row1, row2):\n",
    "        if a == b:\n",
    "            score+=1\n",
    "        else:\n",
    "            score+=-1\n",
    "    return score\n",
    "\n",
    "def random_equation(blk_size=BLOCK_SIZE, ppl_cnt=PEOPLE_COUNT):\n",
    "    \"\"\"Create random boolean equation\"\"\"\n",
    "    eqn = []\n",
    "    for _ in range(ppl_cnt):\n",
    "        eqn.append(make_random_block(blk_size))\n",
    "    return eqn"
   ]
  },
  {
   "cell_type": "code",
   "execution_count": 697,
   "metadata": {
    "ExecuteTime": {
     "end_time": "2019-04-11T22:36:01.791887Z",
     "start_time": "2019-04-11T22:36:01.739497Z"
    },
    "code_folding": [
     0
    ],
    "collapsed": true
   },
   "outputs": [],
   "source": [
    "# Classes\n",
    "class Genome(object):\n",
    "    def __init__(self, eqn, variables=VARIABLES):\n",
    "        self.eqn = eqn\n",
    "        self.var_count = len(VARIABLES)-1\n",
    "        self.variables = variables\n",
    "        self.fitness_score = None\n",
    "        self.truth_values = []\n",
    "        \n",
    "    def calculate_fitness(self):\n",
    "        global PEOPLE_COUNT, ASSUMED_ANSWER\n",
    "        score, count = 0, 0\n",
    "        \n",
    "        for row in truth_table(self.var_count):\n",
    "            truth_value = {a:b for a, b in zip(self.variables, row)}\n",
    "            # eval_result = evaluate(self.eqn, truth_value)\n",
    "            eval_result = random.choice([True, False])\n",
    "            if eval_result:\n",
    "                self.truth_values.append(row)\n",
    "                score += similarity_score(ASSUMED_ANSWER, row)\n",
    "                count += 1\n",
    "        if count is not 0:\n",
    "            self.fitness_score = score / count\n",
    "        else:\n",
    "            self.fitness_score = -999.0\n",
    "            \n",
    "    def __repr__(self):\n",
    "        eqn = \" ; \".join([\"\".join(_) for _ in self.eqn])\n",
    "        f_score = round(self.fitness_score, 3)\n",
    "        repr_str = f'B_eqn : {eqn} \\t fitness_score : {f_score}'\n",
    "        return repr_str\n",
    "        "
   ]
  },
  {
   "cell_type": "code",
   "execution_count": 694,
   "metadata": {
    "ExecuteTime": {
     "end_time": "2019-04-11T22:34:55.508488Z",
     "start_time": "2019-04-11T22:34:55.501063Z"
    },
    "code_folding": []
   },
   "outputs": [],
   "source": [
    "# Generate Initial Population\n",
    "population = []\n",
    "for _ in range(POPULATION_SIZE):\n",
    "    eqn = random_equation(BLOCK_SIZE, PEOPLE_COUNT)\n",
    "    g = Genome(eqn)\n",
    "    population.append(g)\n"
   ]
  },
  {
   "cell_type": "code",
   "execution_count": 696,
   "metadata": {
    "ExecuteTime": {
     "end_time": "2019-04-11T22:35:30.618911Z",
     "start_time": "2019-04-11T22:35:30.612838Z"
    },
    "scrolled": false
   },
   "outputs": [],
   "source": [
    "# Calculate Fitness\n",
    "for g in population:\n",
    "    g.calculate_fitness()"
   ]
  },
  {
   "cell_type": "code",
   "execution_count": 700,
   "metadata": {
    "ExecuteTime": {
     "end_time": "2019-04-11T22:36:36.360825Z",
     "start_time": "2019-04-11T22:36:36.351186Z"
    },
    "code_folding": [
     0
    ],
    "collapsed": true
   },
   "outputs": [
    {
     "data": {
      "text/plain": [
       "B_eqn : -B&A ; 1|A \t fitness_score : 1.0"
      ]
     },
     "execution_count": 700,
     "metadata": {},
     "output_type": "execute_result"
    }
   ],
   "source": [
    "# Genome example\n",
    "g = Genome(random_equation())\n",
    "g.calculate_fitness()\n",
    "g"
   ]
  },
  {
   "cell_type": "code",
   "execution_count": 452,
   "metadata": {
    "ExecuteTime": {
     "end_time": "2019-04-11T21:41:50.199690Z",
     "start_time": "2019-04-11T21:41:50.177903Z"
    },
    "code_folding": [
     0
    ],
    "collapsed": true
   },
   "outputs": [
    {
     "name": "stdout",
     "output_type": "stream",
     "text": [
      " 1  3 0.3333333333333333\n",
      " 3  3 1.0       \n",
      " 2  4 0.5       \n",
      "-2  4 -0.5      \n",
      " 4  6 0.6666666666666666\n",
      "-3  7 -0.42857142857142855\n",
      " 2  6 0.3333333333333333\n",
      " 4  4 1.0       \n",
      "-4  4 -1.0      \n",
      " 3  3 1.0       \n",
      " 2  4 0.5       \n",
      "-2  4 -0.5      \n",
      "-3  5 -0.6      \n",
      " 0  6 0.0       \n",
      "-1  1 -1.0      \n",
      "-5  5 -1.0      \n",
      "-4  4 -1.0      \n",
      " 2  4 0.5       \n",
      " 5  3 1.6666666666666667\n"
     ]
    }
   ],
   "source": [
    "# Score Calculation examples\n",
    "flag = True\n",
    "while(flag):\n",
    "    score = 0\n",
    "    count = 0\n",
    "    for row in truth_table(3):\n",
    "        if(random.choice([True, False])):\n",
    "            score+=similarity_score(ASSUMED_ANSWER, row)\n",
    "            count += 1\n",
    "    print(\"%2s %2s %-10s\" %(score, count, score/count))\n",
    "    if(score/count > 1):\n",
    "        flag = False"
   ]
  }
 ],
 "metadata": {
  "kernelspec": {
   "display_name": "Python 3",
   "language": "python",
   "name": "python3"
  },
  "language_info": {
   "codemirror_mode": {
    "name": "ipython",
    "version": 3
   },
   "file_extension": ".py",
   "mimetype": "text/x-python",
   "name": "python",
   "nbconvert_exporter": "python",
   "pygments_lexer": "ipython3",
   "version": "3.6.3"
  },
  "latex_envs": {
   "LaTeX_envs_menu_present": true,
   "autoclose": false,
   "autocomplete": true,
   "bibliofile": "biblio.bib",
   "cite_by": "apalike",
   "current_citInitial": 1,
   "eqLabelWithNumbers": true,
   "eqNumInitial": 1,
   "hotkeys": {
    "equation": "Ctrl-E",
    "itemize": "Ctrl-I"
   },
   "labels_anchors": false,
   "latex_user_defs": false,
   "report_style_numbering": false,
   "user_envs_cfg": false
  }
 },
 "nbformat": 4,
 "nbformat_minor": 2
}
